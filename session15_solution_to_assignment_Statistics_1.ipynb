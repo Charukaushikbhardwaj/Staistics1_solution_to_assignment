{
 "cells": [
  {
   "cell_type": "code",
   "execution_count": 4,
   "metadata": {},
   "outputs": [
    {
     "data": {
      "text/plain": [
       "335.92740617910624"
      ]
     },
     "execution_count": 4,
     "metadata": {},
     "output_type": "execute_result"
    }
   ],
   "source": [
    "#solution to question 1 ( output/answer is in dollars)\n",
    "import numpy as np\n",
    "import pandas as pd\n",
    "income=np.array([1550,1700,900,850,1000,950])\n",
    "std_income=np.std(income)\n",
    "std_income\n"
   ]
  },
  {
   "cell_type": "code",
   "execution_count": 2,
   "metadata": {},
   "outputs": [
    {
     "data": {
      "text/plain": [
       "5183.25"
      ]
     },
     "execution_count": 2,
     "metadata": {},
     "output_type": "execute_result"
    }
   ],
   "source": [
    "#solution to question 2 ( output/answer is in square feet)\n",
    "trees=np.array([3, 21, 98, 203, 17, 9])\n",
    "var_trees=np.var(trees)\n",
    "var_trees"
   ]
  },
  {
   "cell_type": "code",
   "execution_count": null,
   "metadata": {},
   "outputs": [],
   "source": [
    "#solution to question 3\n",
    "#In a class on 100 students, 80 students passed in all subjects, 10 failed in one subject, 7failed in two subjects and 3 failed in three subjects. Find the probability distribution of\n",
    "#the variable for number of subjects a student from the given class has failed in.\n",
    "Let x represent the number of subjects the student failed in.\n",
    "Let P(x) represent the probability of a student failing in x number of subjects.\n",
    "then the probable values of x and P(x) are\n",
    "x        0            1         2      3\n",
    "P(x)    80/100       10/100    7/100   3/100\n",
    "P(x)    0.8           0.1        0.07    0.03\n",
    "\n"
   ]
  }
 ],
 "metadata": {
  "kernelspec": {
   "display_name": "Python 3",
   "language": "python",
   "name": "python3"
  },
  "language_info": {
   "codemirror_mode": {
    "name": "ipython",
    "version": 3
   },
   "file_extension": ".py",
   "mimetype": "text/x-python",
   "name": "python",
   "nbconvert_exporter": "python",
   "pygments_lexer": "ipython3",
   "version": "3.6.5"
  }
 },
 "nbformat": 4,
 "nbformat_minor": 2
}
